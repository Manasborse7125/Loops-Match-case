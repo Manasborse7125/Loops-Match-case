{
 "cells": [
  {
   "cell_type": "markdown",
   "id": "4553ca46-5e41-4c48-9a6f-31caeebbce56",
   "metadata": {},
   "source": [
    "# DAY - 4"
   ]
  },
  {
   "cell_type": "markdown",
   "id": "f9a153f3-c765-4e81-b167-da3bc55f5f9f",
   "metadata": {},
   "source": [
    "# Match Case(Switch Case)"
   ]
  },
  {
   "cell_type": "code",
   "execution_count": 7,
   "id": "5aa328e8-ec2e-49d4-9df8-131956b3e9c9",
   "metadata": {},
   "outputs": [
    {
     "name": "stdin",
     "output_type": "stream",
     "text": [
      "Enter x : 99\n"
     ]
    },
    {
     "name": "stdout",
     "output_type": "stream",
     "text": [
      "X is 99\n"
     ]
    }
   ],
   "source": [
    "#Match-Case\n",
    "x=int(input(\"Enter x :\"))\n",
    "match x:\n",
    "    case 0:\n",
    "        print(\"X is 0\")\n",
    "    case 5 :\n",
    "        print(\"X is 5\")\n",
    "    case 99:\n",
    "        print(\"X is 99\")\n",
    "    case _:\n",
    "        print(\"X\")"
   ]
  },
  {
   "cell_type": "markdown",
   "id": "95b8e372-fb4b-4798-833b-9edbcf96bdc5",
   "metadata": {},
   "source": [
    "# For Loop"
   ]
  },
  {
   "cell_type": "code",
   "execution_count": 1,
   "id": "e5f557c2-8fd9-439b-87e0-8f878fe73af0",
   "metadata": {},
   "outputs": [
    {
     "name": "stdout",
     "output_type": "stream",
     "text": [
      "m,a,n,a,s,"
     ]
    }
   ],
   "source": [
    "#Simple for loop\n",
    "name='manas'\n",
    "for i in name:\n",
    "    print(i,end=',')"
   ]
  },
  {
   "cell_type": "code",
   "execution_count": 3,
   "id": "acbc0cab-6d4c-45c1-b47a-62ae60833187",
   "metadata": {},
   "outputs": [
    {
     "name": "stdout",
     "output_type": "stream",
     "text": [
      "Siraj\n",
      "S\n",
      "i\n",
      "r\n",
      "a\n",
      "j\n",
      "Virat\n",
      "V\n",
      "i\n",
      "r\n",
      "a\n",
      "t\n",
      "Abd\n",
      "A\n",
      "b\n",
      "d\n",
      "Maxwell\n",
      "M\n",
      "a\n",
      "x\n",
      "w\n",
      "e\n",
      "l\n",
      "l\n"
     ]
    }
   ],
   "source": [
    "#nested for loop\n",
    "rcb=['Siraj','Virat','Abd','Maxwell']\n",
    "for players in rcb:\n",
    "    print(players)\n",
    "    for i in players:\n",
    "        print(i)"
   ]
  },
  {
   "cell_type": "code",
   "execution_count": 4,
   "id": "208b7c29-eeb5-4ccf-b179-44e355e8b7c3",
   "metadata": {},
   "outputs": [
    {
     "name": "stdout",
     "output_type": "stream",
     "text": [
      "0\n",
      "1\n",
      "2\n",
      "3\n",
      "4\n"
     ]
    }
   ],
   "source": [
    "#range(realted to numbers)\n",
    "for i in range(5):\n",
    "    print(i)"
   ]
  },
  {
   "cell_type": "code",
   "execution_count": 5,
   "id": "b4f17502-6fae-4a9f-8b20-56042533a974",
   "metadata": {},
   "outputs": [
    {
     "name": "stdout",
     "output_type": "stream",
     "text": [
      "1\n",
      "2\n",
      "3\n",
      "4\n",
      "5\n"
     ]
    }
   ],
   "source": [
    "for i in range(5):\n",
    "    print(i+1)"
   ]
  },
  {
   "cell_type": "code",
   "execution_count": 8,
   "id": "c6267621-f0c9-4871-b05b-ddb6539d8275",
   "metadata": {},
   "outputs": [
    {
     "name": "stdout",
     "output_type": "stream",
     "text": [
      "0\n",
      "3\n",
      "6\n",
      "9\n"
     ]
    }
   ],
   "source": [
    "#for i in range(start,stop,seek)\n",
    "for i in range(0,12,3):\n",
    "    print(i)"
   ]
  },
  {
   "cell_type": "markdown",
   "id": "0408f22e-9bc8-4ccd-ac5b-aab4fb4c75b4",
   "metadata": {},
   "source": [
    "# Do While Loop"
   ]
  },
  {
   "cell_type": "code",
   "execution_count": 9,
   "id": "dd540475-0507-42b5-931f-c1ab5459e81c",
   "metadata": {},
   "outputs": [
    {
     "name": "stdout",
     "output_type": "stream",
     "text": [
      "10\n",
      "9\n",
      "8\n",
      "7\n",
      "6\n",
      "5\n",
      "4\n",
      "3\n",
      "2\n",
      "1\n"
     ]
    }
   ],
   "source": [
    "i=10\n",
    "while(i>0):\n",
    "    print(i)\n",
    "    i=i-1"
   ]
  },
  {
   "cell_type": "code",
   "execution_count": 10,
   "id": "a15ae0ac-af64-4dc6-af3f-0d4b9f10860e",
   "metadata": {},
   "outputs": [
    {
     "name": "stdout",
     "output_type": "stream",
     "text": [
      "5\n",
      "6\n",
      "7\n",
      "8\n",
      "9\n",
      "10\n"
     ]
    }
   ],
   "source": [
    "i=5\n",
    "while(i<=10):\n",
    "    print(i)\n",
    "    i=i+1"
   ]
  },
  {
   "cell_type": "code",
   "execution_count": 14,
   "id": "f0f35765-9bb3-4b71-8ddc-64d1e1c10ce7",
   "metadata": {},
   "outputs": [
    {
     "name": "stdout",
     "output_type": "stream",
     "text": [
      "2\n",
      "4\n",
      "6\n",
      "8\n",
      "10\n",
      "12\n",
      "14\n",
      "16\n",
      "18\n",
      "20\n",
      "Code Successfully Excuted\n"
     ]
    }
   ],
   "source": [
    "i=1\n",
    "while(i<=20):\n",
    "    if(i%2==0):\n",
    "        print(i)\n",
    "    i=i+1\n",
    "print(\"Code Successfully Excuted\")"
   ]
  }
 ],
 "metadata": {
  "kernelspec": {
   "display_name": "Python 3 (ipykernel)",
   "language": "python",
   "name": "python3"
  },
  "language_info": {
   "codemirror_mode": {
    "name": "ipython",
    "version": 3
   },
   "file_extension": ".py",
   "mimetype": "text/x-python",
   "name": "python",
   "nbconvert_exporter": "python",
   "pygments_lexer": "ipython3",
   "version": "3.12.4"
  }
 },
 "nbformat": 4,
 "nbformat_minor": 5
}
